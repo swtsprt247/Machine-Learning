{
 "cells": [
  {
   "cell_type": "markdown",
   "metadata": {},
   "source": [
    "## Last.fm Data\n",
    "\n",
    "Data source: http://ocelma.net/MusicRecommendationDataset/lastfm-360K.html\n",
    "\n",
    "In git, unzip using tar -xvzf lastfm-dataset-360K.tar.gz\n",
    "\n",
    "Open .tsv file from Excel and save as .csv (I named them users.csv and user_country.csv)\n",
    "\n",
    "Data includes individual user ids matched up with artist id/names. I used some modeling examples by Nick Becker (https://beckernick.github.io/)."
   ]
  },
  {
   "cell_type": "code",
   "execution_count": 1,
   "metadata": {},
   "outputs": [],
   "source": [
    "#Import dependencies\n",
    "import pandas as pd\n",
    "import numpy as np\n",
    "from scipy.spatial.distance import cosine\n",
    "from scipy.sparse import csr_matrix"
   ]
  },
  {
   "cell_type": "code",
   "execution_count": 2,
   "metadata": {},
   "outputs": [],
   "source": [
    "user_df = pd.read_csv('data/users.csv')"
   ]
  },
  {
   "cell_type": "code",
   "execution_count": 3,
   "metadata": {},
   "outputs": [
    {
     "data": {
      "text/html": [
       "<div>\n",
       "<style scoped>\n",
       "    .dataframe tbody tr th:only-of-type {\n",
       "        vertical-align: middle;\n",
       "    }\n",
       "\n",
       "    .dataframe tbody tr th {\n",
       "        vertical-align: top;\n",
       "    }\n",
       "\n",
       "    .dataframe thead th {\n",
       "        text-align: right;\n",
       "    }\n",
       "</style>\n",
       "<table border=\"1\" class=\"dataframe\">\n",
       "  <thead>\n",
       "    <tr style=\"text-align: right;\">\n",
       "      <th></th>\n",
       "      <th>user_id</th>\n",
       "      <th>artist_id</th>\n",
       "      <th>artist_name</th>\n",
       "      <th>plays</th>\n",
       "    </tr>\n",
       "  </thead>\n",
       "  <tbody>\n",
       "    <tr>\n",
       "      <th>0</th>\n",
       "      <td>02ccf45baa7fe62f0935b8a6a64ff8869a7b0387</td>\n",
       "      <td>b202beb7-99bd-47e7-8b72-195c8d72ebdd</td>\n",
       "      <td>christina aguilera</td>\n",
       "      <td>135392</td>\n",
       "    </tr>\n",
       "    <tr>\n",
       "      <th>1</th>\n",
       "      <td>09d12dfa05a0852053a9017121034a837fa4019e</td>\n",
       "      <td>4d7928cd-7ed2-4282-8c29-c0c9f966f1bd</td>\n",
       "      <td>alice cooper</td>\n",
       "      <td>134993</td>\n",
       "    </tr>\n",
       "    <tr>\n",
       "      <th>2</th>\n",
       "      <td>0b2956b319a3ac466b0cf1a8c49fa73498d0898c</td>\n",
       "      <td>31745282-b1ea-4d62-939f-226b14d68e7c</td>\n",
       "      <td>in flames</td>\n",
       "      <td>112989</td>\n",
       "    </tr>\n",
       "    <tr>\n",
       "      <th>3</th>\n",
       "      <td>00a20b9791abd8b29903a8a43e343ae93a98d9fd</td>\n",
       "      <td>ac9a487a-d9d2-4f27-bb23-0f4686488345</td>\n",
       "      <td>lil wayne</td>\n",
       "      <td>107758</td>\n",
       "    </tr>\n",
       "    <tr>\n",
       "      <th>4</th>\n",
       "      <td>082279c9db5330c25a4e0ceae275a9fc79c753c4</td>\n",
       "      <td>847e8a0c-cc20-4213-9e16-975515c2a926</td>\n",
       "      <td>celine dion</td>\n",
       "      <td>86132</td>\n",
       "    </tr>\n",
       "  </tbody>\n",
       "</table>\n",
       "</div>"
      ],
      "text/plain": [
       "                                    user_id  \\\n",
       "0  02ccf45baa7fe62f0935b8a6a64ff8869a7b0387   \n",
       "1  09d12dfa05a0852053a9017121034a837fa4019e   \n",
       "2  0b2956b319a3ac466b0cf1a8c49fa73498d0898c   \n",
       "3  00a20b9791abd8b29903a8a43e343ae93a98d9fd   \n",
       "4  082279c9db5330c25a4e0ceae275a9fc79c753c4   \n",
       "\n",
       "                              artist_id         artist_name   plays  \n",
       "0  b202beb7-99bd-47e7-8b72-195c8d72ebdd  christina aguilera  135392  \n",
       "1  4d7928cd-7ed2-4282-8c29-c0c9f966f1bd        alice cooper  134993  \n",
       "2  31745282-b1ea-4d62-939f-226b14d68e7c           in flames  112989  \n",
       "3  ac9a487a-d9d2-4f27-bb23-0f4686488345           lil wayne  107758  \n",
       "4  847e8a0c-cc20-4213-9e16-975515c2a926         celine dion   86132  "
      ]
     },
     "execution_count": 3,
     "metadata": {},
     "output_type": "execute_result"
    }
   ],
   "source": [
    "user_df.head()"
   ]
  },
  {
   "cell_type": "code",
   "execution_count": 4,
   "metadata": {},
   "outputs": [],
   "source": [
    "#Set up the df by artists. First we get rid of rows with the missing artist name, and then group by name and plays\n",
    "if user_df['artist_name'].isnull().sum() > 0:\n",
    "    user_df = user_df.dropna(axis = 0, subset = ['artist_name'])\n",
    "artist_plays = (user_df.groupby(by = ['artist_name'])['plays'].sum().reset_index().\n",
    "               rename(columns = {'plays': 'total_artist_plays'})\n",
    "               [['artist_name', 'total_artist_plays']])"
   ]
  },
  {
   "cell_type": "code",
   "execution_count": 5,
   "metadata": {},
   "outputs": [
    {
     "data": {
      "text/html": [
       "<div>\n",
       "<style scoped>\n",
       "    .dataframe tbody tr th:only-of-type {\n",
       "        vertical-align: middle;\n",
       "    }\n",
       "\n",
       "    .dataframe tbody tr th {\n",
       "        vertical-align: top;\n",
       "    }\n",
       "\n",
       "    .dataframe thead th {\n",
       "        text-align: right;\n",
       "    }\n",
       "</style>\n",
       "<table border=\"1\" class=\"dataframe\">\n",
       "  <thead>\n",
       "    <tr style=\"text-align: right;\">\n",
       "      <th></th>\n",
       "      <th>artist_name</th>\n",
       "      <th>total_artist_plays</th>\n",
       "    </tr>\n",
       "  </thead>\n",
       "  <tbody>\n",
       "    <tr>\n",
       "      <th>0</th>\n",
       "      <td>cours de la somme</td>\n",
       "      <td>9</td>\n",
       "    </tr>\n",
       "    <tr>\n",
       "      <th>1</th>\n",
       "      <td>oliver shanti &amp; friends</td>\n",
       "      <td>3</td>\n",
       "    </tr>\n",
       "    <tr>\n",
       "      <th>2</th>\n",
       "      <td>!!!</td>\n",
       "      <td>19814</td>\n",
       "    </tr>\n",
       "    <tr>\n",
       "      <th>3</th>\n",
       "      <td>!5:b&gt;@ 3070</td>\n",
       "      <td>33</td>\n",
       "    </tr>\n",
       "    <tr>\n",
       "      <th>4</th>\n",
       "      <td>!action pact!</td>\n",
       "      <td>143</td>\n",
       "    </tr>\n",
       "  </tbody>\n",
       "</table>\n",
       "</div>"
      ],
      "text/plain": [
       "                artist_name  total_artist_plays\n",
       "0         cours de la somme                   9\n",
       "1   oliver shanti & friends                   3\n",
       "2                       !!!               19814\n",
       "3               !5:b>@ 3070                  33\n",
       "4             !action pact!                 143"
      ]
     },
     "execution_count": 5,
     "metadata": {},
     "output_type": "execute_result"
    }
   ],
   "source": [
    "artist_plays.head()"
   ]
  },
  {
   "cell_type": "code",
   "execution_count": 6,
   "metadata": {},
   "outputs": [
    {
     "data": {
      "text/html": [
       "<div>\n",
       "<style scoped>\n",
       "    .dataframe tbody tr th:only-of-type {\n",
       "        vertical-align: middle;\n",
       "    }\n",
       "\n",
       "    .dataframe tbody tr th {\n",
       "        vertical-align: top;\n",
       "    }\n",
       "\n",
       "    .dataframe thead th {\n",
       "        text-align: right;\n",
       "    }\n",
       "</style>\n",
       "<table border=\"1\" class=\"dataframe\">\n",
       "  <thead>\n",
       "    <tr style=\"text-align: right;\">\n",
       "      <th></th>\n",
       "      <th>user_id</th>\n",
       "      <th>artist_id</th>\n",
       "      <th>artist_name</th>\n",
       "      <th>plays</th>\n",
       "      <th>total_artist_plays</th>\n",
       "    </tr>\n",
       "  </thead>\n",
       "  <tbody>\n",
       "    <tr>\n",
       "      <th>0</th>\n",
       "      <td>02ccf45baa7fe62f0935b8a6a64ff8869a7b0387</td>\n",
       "      <td>b202beb7-99bd-47e7-8b72-195c8d72ebdd</td>\n",
       "      <td>christina aguilera</td>\n",
       "      <td>135392</td>\n",
       "      <td>328864</td>\n",
       "    </tr>\n",
       "    <tr>\n",
       "      <th>1</th>\n",
       "      <td>09d12dfa05a0852053a9017121034a837fa4019e</td>\n",
       "      <td>4d7928cd-7ed2-4282-8c29-c0c9f966f1bd</td>\n",
       "      <td>alice cooper</td>\n",
       "      <td>134993</td>\n",
       "      <td>212932</td>\n",
       "    </tr>\n",
       "    <tr>\n",
       "      <th>2</th>\n",
       "      <td>0b2956b319a3ac466b0cf1a8c49fa73498d0898c</td>\n",
       "      <td>31745282-b1ea-4d62-939f-226b14d68e7c</td>\n",
       "      <td>in flames</td>\n",
       "      <td>112989</td>\n",
       "      <td>814097</td>\n",
       "    </tr>\n",
       "    <tr>\n",
       "      <th>3</th>\n",
       "      <td>00a20b9791abd8b29903a8a43e343ae93a98d9fd</td>\n",
       "      <td>ac9a487a-d9d2-4f27-bb23-0f4686488345</td>\n",
       "      <td>lil wayne</td>\n",
       "      <td>107758</td>\n",
       "      <td>285681</td>\n",
       "    </tr>\n",
       "    <tr>\n",
       "      <th>4</th>\n",
       "      <td>082279c9db5330c25a4e0ceae275a9fc79c753c4</td>\n",
       "      <td>847e8a0c-cc20-4213-9e16-975515c2a926</td>\n",
       "      <td>celine dion</td>\n",
       "      <td>86132</td>\n",
       "      <td>146320</td>\n",
       "    </tr>\n",
       "  </tbody>\n",
       "</table>\n",
       "</div>"
      ],
      "text/plain": [
       "                                    user_id  \\\n",
       "0  02ccf45baa7fe62f0935b8a6a64ff8869a7b0387   \n",
       "1  09d12dfa05a0852053a9017121034a837fa4019e   \n",
       "2  0b2956b319a3ac466b0cf1a8c49fa73498d0898c   \n",
       "3  00a20b9791abd8b29903a8a43e343ae93a98d9fd   \n",
       "4  082279c9db5330c25a4e0ceae275a9fc79c753c4   \n",
       "\n",
       "                              artist_id         artist_name   plays  \\\n",
       "0  b202beb7-99bd-47e7-8b72-195c8d72ebdd  christina aguilera  135392   \n",
       "1  4d7928cd-7ed2-4282-8c29-c0c9f966f1bd        alice cooper  134993   \n",
       "2  31745282-b1ea-4d62-939f-226b14d68e7c           in flames  112989   \n",
       "3  ac9a487a-d9d2-4f27-bb23-0f4686488345           lil wayne  107758   \n",
       "4  847e8a0c-cc20-4213-9e16-975515c2a926         celine dion   86132   \n",
       "\n",
       "   total_artist_plays  \n",
       "0              328864  \n",
       "1              212932  \n",
       "2              814097  \n",
       "3              285681  \n",
       "4              146320  "
      ]
     },
     "execution_count": 6,
     "metadata": {},
     "output_type": "execute_result"
    }
   ],
   "source": [
    "#Join the artist plays df to the original user df\n",
    "users_plus_artist = user_df.merge(artist_plays, left_on = 'artist_name', right_on = 'artist_name', how = 'left')\n",
    "users_plus_artist.head()"
   ]
  },
  {
   "cell_type": "code",
   "execution_count": null,
   "metadata": {},
   "outputs": [],
   "source": [
    "#Filter down df to artists who've had over 5000 plays, so about the top 7% of artists\n",
    "#popular_artists = users_plus_artist.query('total_artist_plays > 5000')\n",
    "#popular_artists.head()"
   ]
  },
  {
   "cell_type": "code",
   "execution_count": 7,
   "metadata": {},
   "outputs": [
    {
     "data": {
      "text/html": [
       "<div>\n",
       "<style scoped>\n",
       "    .dataframe tbody tr th:only-of-type {\n",
       "        vertical-align: middle;\n",
       "    }\n",
       "\n",
       "    .dataframe tbody tr th {\n",
       "        vertical-align: top;\n",
       "    }\n",
       "\n",
       "    .dataframe thead th {\n",
       "        text-align: right;\n",
       "    }\n",
       "</style>\n",
       "<table border=\"1\" class=\"dataframe\">\n",
       "  <thead>\n",
       "    <tr style=\"text-align: right;\">\n",
       "      <th></th>\n",
       "      <th>user_id</th>\n",
       "      <th>sex</th>\n",
       "      <th>age</th>\n",
       "      <th>country</th>\n",
       "      <th>date</th>\n",
       "    </tr>\n",
       "  </thead>\n",
       "  <tbody>\n",
       "    <tr>\n",
       "      <th>0</th>\n",
       "      <td>00000c289a1829a808ac09c00daf10bc3c4e223b</td>\n",
       "      <td>f</td>\n",
       "      <td>22.0</td>\n",
       "      <td>Germany</td>\n",
       "      <td>1-Feb-07</td>\n",
       "    </tr>\n",
       "    <tr>\n",
       "      <th>1</th>\n",
       "      <td>00001411dc427966b17297bf4d69e7e193135d89</td>\n",
       "      <td>f</td>\n",
       "      <td>NaN</td>\n",
       "      <td>Canada</td>\n",
       "      <td>4-Dec-07</td>\n",
       "    </tr>\n",
       "    <tr>\n",
       "      <th>2</th>\n",
       "      <td>00004d2ac9316e22dc007ab2243d6fcb239e707d</td>\n",
       "      <td>NaN</td>\n",
       "      <td>NaN</td>\n",
       "      <td>Germany</td>\n",
       "      <td>1-Sep-06</td>\n",
       "    </tr>\n",
       "    <tr>\n",
       "      <th>3</th>\n",
       "      <td>000063d3fe1cf2ba248b9e3c3f0334845a27a6bf</td>\n",
       "      <td>m</td>\n",
       "      <td>19.0</td>\n",
       "      <td>Mexico</td>\n",
       "      <td>28-Apr-08</td>\n",
       "    </tr>\n",
       "    <tr>\n",
       "      <th>4</th>\n",
       "      <td>00007a47085b9aab8af55f52ec8846ac479ac4fe</td>\n",
       "      <td>m</td>\n",
       "      <td>28.0</td>\n",
       "      <td>United States</td>\n",
       "      <td>27-Jan-06</td>\n",
       "    </tr>\n",
       "  </tbody>\n",
       "</table>\n",
       "</div>"
      ],
      "text/plain": [
       "                                    user_id  sex   age        country  \\\n",
       "0  00000c289a1829a808ac09c00daf10bc3c4e223b    f  22.0        Germany   \n",
       "1  00001411dc427966b17297bf4d69e7e193135d89    f   NaN         Canada   \n",
       "2  00004d2ac9316e22dc007ab2243d6fcb239e707d  NaN   NaN        Germany   \n",
       "3  000063d3fe1cf2ba248b9e3c3f0334845a27a6bf    m  19.0         Mexico   \n",
       "4  00007a47085b9aab8af55f52ec8846ac479ac4fe    m  28.0  United States   \n",
       "\n",
       "        date  \n",
       "0   1-Feb-07  \n",
       "1   4-Dec-07  \n",
       "2   1-Sep-06  \n",
       "3  28-Apr-08  \n",
       "4  27-Jan-06  "
      ]
     },
     "execution_count": 7,
     "metadata": {},
     "output_type": "execute_result"
    }
   ],
   "source": [
    "#Read the second csv containing each user's country\n",
    "user_country = pd.read_csv('data/user_country.csv')\n",
    "user_country.head()"
   ]
  },
  {
   "cell_type": "code",
   "execution_count": 10,
   "metadata": {},
   "outputs": [
    {
     "data": {
      "text/html": [
       "<div>\n",
       "<style scoped>\n",
       "    .dataframe tbody tr th:only-of-type {\n",
       "        vertical-align: middle;\n",
       "    }\n",
       "\n",
       "    .dataframe tbody tr th {\n",
       "        vertical-align: top;\n",
       "    }\n",
       "\n",
       "    .dataframe thead th {\n",
       "        text-align: right;\n",
       "    }\n",
       "</style>\n",
       "<table border=\"1\" class=\"dataframe\">\n",
       "  <thead>\n",
       "    <tr style=\"text-align: right;\">\n",
       "      <th></th>\n",
       "      <th>user_id</th>\n",
       "      <th>artist_id</th>\n",
       "      <th>artist_name</th>\n",
       "      <th>plays</th>\n",
       "      <th>total_artist_plays</th>\n",
       "      <th>sex</th>\n",
       "      <th>age</th>\n",
       "      <th>country</th>\n",
       "      <th>date</th>\n",
       "    </tr>\n",
       "  </thead>\n",
       "  <tbody>\n",
       "    <tr>\n",
       "      <th>0</th>\n",
       "      <td>02ccf45baa7fe62f0935b8a6a64ff8869a7b0387</td>\n",
       "      <td>b202beb7-99bd-47e7-8b72-195c8d72ebdd</td>\n",
       "      <td>christina aguilera</td>\n",
       "      <td>135392</td>\n",
       "      <td>328864</td>\n",
       "      <td>f</td>\n",
       "      <td>20.0</td>\n",
       "      <td>Brazil</td>\n",
       "      <td>1-Sep-07</td>\n",
       "    </tr>\n",
       "    <tr>\n",
       "      <th>1</th>\n",
       "      <td>09d12dfa05a0852053a9017121034a837fa4019e</td>\n",
       "      <td>4d7928cd-7ed2-4282-8c29-c0c9f966f1bd</td>\n",
       "      <td>alice cooper</td>\n",
       "      <td>134993</td>\n",
       "      <td>212932</td>\n",
       "      <td>m</td>\n",
       "      <td>39.0</td>\n",
       "      <td>United Kingdom</td>\n",
       "      <td>10-Aug-05</td>\n",
       "    </tr>\n",
       "    <tr>\n",
       "      <th>2</th>\n",
       "      <td>0b2956b319a3ac466b0cf1a8c49fa73498d0898c</td>\n",
       "      <td>31745282-b1ea-4d62-939f-226b14d68e7c</td>\n",
       "      <td>in flames</td>\n",
       "      <td>112989</td>\n",
       "      <td>814097</td>\n",
       "      <td>m</td>\n",
       "      <td>26.0</td>\n",
       "      <td>Russian Federation</td>\n",
       "      <td>19-Sep-07</td>\n",
       "    </tr>\n",
       "    <tr>\n",
       "      <th>3</th>\n",
       "      <td>00a20b9791abd8b29903a8a43e343ae93a98d9fd</td>\n",
       "      <td>ac9a487a-d9d2-4f27-bb23-0f4686488345</td>\n",
       "      <td>lil wayne</td>\n",
       "      <td>107758</td>\n",
       "      <td>285681</td>\n",
       "      <td>NaN</td>\n",
       "      <td>22.0</td>\n",
       "      <td>United States</td>\n",
       "      <td>12-May-08</td>\n",
       "    </tr>\n",
       "    <tr>\n",
       "      <th>4</th>\n",
       "      <td>082279c9db5330c25a4e0ceae275a9fc79c753c4</td>\n",
       "      <td>847e8a0c-cc20-4213-9e16-975515c2a926</td>\n",
       "      <td>celine dion</td>\n",
       "      <td>86132</td>\n",
       "      <td>146320</td>\n",
       "      <td>m</td>\n",
       "      <td>27.0</td>\n",
       "      <td>United States</td>\n",
       "      <td>3-Aug-07</td>\n",
       "    </tr>\n",
       "  </tbody>\n",
       "</table>\n",
       "</div>"
      ],
      "text/plain": [
       "                                    user_id  \\\n",
       "0  02ccf45baa7fe62f0935b8a6a64ff8869a7b0387   \n",
       "1  09d12dfa05a0852053a9017121034a837fa4019e   \n",
       "2  0b2956b319a3ac466b0cf1a8c49fa73498d0898c   \n",
       "3  00a20b9791abd8b29903a8a43e343ae93a98d9fd   \n",
       "4  082279c9db5330c25a4e0ceae275a9fc79c753c4   \n",
       "\n",
       "                              artist_id         artist_name   plays  \\\n",
       "0  b202beb7-99bd-47e7-8b72-195c8d72ebdd  christina aguilera  135392   \n",
       "1  4d7928cd-7ed2-4282-8c29-c0c9f966f1bd        alice cooper  134993   \n",
       "2  31745282-b1ea-4d62-939f-226b14d68e7c           in flames  112989   \n",
       "3  ac9a487a-d9d2-4f27-bb23-0f4686488345           lil wayne  107758   \n",
       "4  847e8a0c-cc20-4213-9e16-975515c2a926         celine dion   86132   \n",
       "\n",
       "   total_artist_plays  sex   age             country       date  \n",
       "0              328864    f  20.0              Brazil   1-Sep-07  \n",
       "1              212932    m  39.0      United Kingdom  10-Aug-05  \n",
       "2              814097    m  26.0  Russian Federation  19-Sep-07  \n",
       "3              285681  NaN  22.0       United States  12-May-08  \n",
       "4              146320    m  27.0       United States   3-Aug-07  "
      ]
     },
     "execution_count": 10,
     "metadata": {},
     "output_type": "execute_result"
    }
   ],
   "source": [
    "#Join country csv \n",
    "combined_df = users_plus_artist.merge(user_country, left_on = 'user_id', right_on = 'user_id', how = 'left')\n",
    "combined_df.head()"
   ]
  },
  {
   "cell_type": "code",
   "execution_count": 11,
   "metadata": {},
   "outputs": [
    {
     "data": {
      "text/html": [
       "<div>\n",
       "<style scoped>\n",
       "    .dataframe tbody tr th:only-of-type {\n",
       "        vertical-align: middle;\n",
       "    }\n",
       "\n",
       "    .dataframe tbody tr th {\n",
       "        vertical-align: top;\n",
       "    }\n",
       "\n",
       "    .dataframe thead th {\n",
       "        text-align: right;\n",
       "    }\n",
       "</style>\n",
       "<table border=\"1\" class=\"dataframe\">\n",
       "  <thead>\n",
       "    <tr style=\"text-align: right;\">\n",
       "      <th></th>\n",
       "      <th>user_id</th>\n",
       "      <th>artist_id</th>\n",
       "      <th>artist_name</th>\n",
       "      <th>plays</th>\n",
       "      <th>total_artist_plays</th>\n",
       "      <th>sex</th>\n",
       "      <th>age</th>\n",
       "      <th>country</th>\n",
       "      <th>date</th>\n",
       "    </tr>\n",
       "  </thead>\n",
       "  <tbody>\n",
       "    <tr>\n",
       "      <th>3</th>\n",
       "      <td>00a20b9791abd8b29903a8a43e343ae93a98d9fd</td>\n",
       "      <td>ac9a487a-d9d2-4f27-bb23-0f4686488345</td>\n",
       "      <td>lil wayne</td>\n",
       "      <td>107758</td>\n",
       "      <td>285681</td>\n",
       "      <td>NaN</td>\n",
       "      <td>22.0</td>\n",
       "      <td>United States</td>\n",
       "      <td>12-May-08</td>\n",
       "    </tr>\n",
       "    <tr>\n",
       "      <th>4</th>\n",
       "      <td>082279c9db5330c25a4e0ceae275a9fc79c753c4</td>\n",
       "      <td>847e8a0c-cc20-4213-9e16-975515c2a926</td>\n",
       "      <td>celine dion</td>\n",
       "      <td>86132</td>\n",
       "      <td>146320</td>\n",
       "      <td>m</td>\n",
       "      <td>27.0</td>\n",
       "      <td>United States</td>\n",
       "      <td>3-Aug-07</td>\n",
       "    </tr>\n",
       "    <tr>\n",
       "      <th>13</th>\n",
       "      <td>028b91859a012251da23c3dbfd2215154a789f9f</td>\n",
       "      <td>1c3919b2-43ca-4a4a-935d-9d50135ec0ef</td>\n",
       "      <td>afi</td>\n",
       "      <td>59169</td>\n",
       "      <td>264433</td>\n",
       "      <td>f</td>\n",
       "      <td>22.0</td>\n",
       "      <td>United States</td>\n",
       "      <td>18-Jan-06</td>\n",
       "    </tr>\n",
       "    <tr>\n",
       "      <th>15</th>\n",
       "      <td>073689cd85d6f876b0b1123598c53194b2d21198</td>\n",
       "      <td>a16d1433-ba89-4f72-a47b-a370add0bb55</td>\n",
       "      <td>boa</td>\n",
       "      <td>50530</td>\n",
       "      <td>128850</td>\n",
       "      <td>m</td>\n",
       "      <td>19.0</td>\n",
       "      <td>United States</td>\n",
       "      <td>27-Jun-05</td>\n",
       "    </tr>\n",
       "    <tr>\n",
       "      <th>22</th>\n",
       "      <td>0033ee7378661b88b245b1f67cc622ff63a51061</td>\n",
       "      <td>b10bbbfc-cf9e-42e0-be17-e2c3e1d2600d</td>\n",
       "      <td>the beatles</td>\n",
       "      <td>39655</td>\n",
       "      <td>1896944</td>\n",
       "      <td>m</td>\n",
       "      <td>NaN</td>\n",
       "      <td>United States</td>\n",
       "      <td>5-Jun-06</td>\n",
       "    </tr>\n",
       "  </tbody>\n",
       "</table>\n",
       "</div>"
      ],
      "text/plain": [
       "                                     user_id  \\\n",
       "3   00a20b9791abd8b29903a8a43e343ae93a98d9fd   \n",
       "4   082279c9db5330c25a4e0ceae275a9fc79c753c4   \n",
       "13  028b91859a012251da23c3dbfd2215154a789f9f   \n",
       "15  073689cd85d6f876b0b1123598c53194b2d21198   \n",
       "22  0033ee7378661b88b245b1f67cc622ff63a51061   \n",
       "\n",
       "                               artist_id  artist_name   plays  \\\n",
       "3   ac9a487a-d9d2-4f27-bb23-0f4686488345    lil wayne  107758   \n",
       "4   847e8a0c-cc20-4213-9e16-975515c2a926  celine dion   86132   \n",
       "13  1c3919b2-43ca-4a4a-935d-9d50135ec0ef          afi   59169   \n",
       "15  a16d1433-ba89-4f72-a47b-a370add0bb55          boa   50530   \n",
       "22  b10bbbfc-cf9e-42e0-be17-e2c3e1d2600d  the beatles   39655   \n",
       "\n",
       "    total_artist_plays  sex   age        country       date  \n",
       "3               285681  NaN  22.0  United States  12-May-08  \n",
       "4               146320    m  27.0  United States   3-Aug-07  \n",
       "13              264433    f  22.0  United States  18-Jan-06  \n",
       "15              128850    m  19.0  United States  27-Jun-05  \n",
       "22             1896944    m   NaN  United States   5-Jun-06  "
      ]
     },
     "execution_count": 11,
     "metadata": {},
     "output_type": "execute_result"
    }
   ],
   "source": [
    "#Filter down df to only users in the US\n",
    "usa_users = combined_df.query('country == \\'United States\\'')\n",
    "usa_users.head()"
   ]
  },
  {
   "cell_type": "code",
   "execution_count": 12,
   "metadata": {},
   "outputs": [
    {
     "name": "stdout",
     "output_type": "stream",
     "text": [
      "Initial dataframe shape (197144, 9)\n",
      "New dataframe shape (197142, 9)\n",
      "Removed 2 rows\n"
     ]
    }
   ],
   "source": [
    "#Make sure every user has a play count variable once for each artist; check for rows with same user and artist name values\n",
    "if not usa_users[usa_users.duplicated(['user_id', 'artist_name'])].empty:\n",
    "    initial_rows = usa_users.shape[0]\n",
    "    \n",
    "    print('Initial dataframe shape {0}'.format(usa_users.shape))\n",
    "    usa_users = usa_users.drop_duplicates(['user_id', 'artist_name'])\n",
    "    current_rows = usa_users.shape[0]\n",
    "    print('New dataframe shape {0}'.format(usa_users.shape))\n",
    "    print('Removed {0} rows'.format(initial_rows - current_rows))"
   ]
  },
  {
   "cell_type": "markdown",
   "metadata": {},
   "source": [
    "## K-Nearest Neighbors"
   ]
  },
  {
   "cell_type": "code",
   "execution_count": 13,
   "metadata": {},
   "outputs": [],
   "source": [
    "#Set up data where each row is an artist and each column is a user; transform into sparse matrix using SciPy\n",
    "wide_artist_data = usa_users.pivot(index = 'artist_name', columns = 'user_id', values = 'plays').fillna(0)\n",
    "wide_artist_data_sparse = csr_matrix(wide_artist_data.values)"
   ]
  },
  {
   "cell_type": "code",
   "execution_count": 14,
   "metadata": {},
   "outputs": [
    {
     "data": {
      "text/plain": [
       "NearestNeighbors(algorithm='brute', leaf_size=30, metric='cosine',\n",
       "         metric_params=None, n_jobs=1, n_neighbors=5, p=2, radius=1.0)"
      ]
     },
     "execution_count": 14,
     "metadata": {},
     "output_type": "execute_result"
    }
   ],
   "source": [
    "#Implement Scikit Learn model for nearest neighbors\n",
    "from sklearn.neighbors import NearestNeighbors\n",
    "\n",
    "model_knn = NearestNeighbors(metric = 'cosine', algorithm = 'brute')\n",
    "model_knn.fit(wide_artist_data_sparse)"
   ]
  },
  {
   "cell_type": "markdown",
   "metadata": {},
   "source": [
    "## Recommended Artists\n",
    "\n",
    "Fuzzywuzzy is a python library that finds strings that approximately match a given pattern. This allows you to enter an artist name for similar recommendations, and it will still work if you misspell or don't enter it exactly at it appears in the dataset."
   ]
  },
  {
   "cell_type": "code",
   "execution_count": 15,
   "metadata": {},
   "outputs": [
    {
     "name": "stderr",
     "output_type": "stream",
     "text": [
      "C:\\Users\\Jana\\Anaconda3\\lib\\site-packages\\fuzzywuzzy\\fuzz.py:35: UserWarning: Using slow pure-python SequenceMatcher. Install python-Levenshtein to remove this warning\n",
      "  warnings.warn('Using slow pure-python SequenceMatcher. Install python-Levenshtein to remove this warning')\n"
     ]
    }
   ],
   "source": [
    "import string\n",
    "from fuzzywuzzy import fuzz"
   ]
  },
  {
   "cell_type": "code",
   "execution_count": 16,
   "metadata": {},
   "outputs": [
    {
     "data": {
      "text/plain": [
       "NearestNeighbors(algorithm='brute', leaf_size=30, metric='cosine',\n",
       "         metric_params=None, n_jobs=1, n_neighbors=5, p=2, radius=1.0)"
      ]
     },
     "execution_count": 16,
     "metadata": {},
     "output_type": "execute_result"
    }
   ],
   "source": [
    "wide_artist_data_zero_one = wide_artist_data.apply(np.sign)\n",
    "wide_artist_data_zero_one_sparse = csr_matrix(wide_artist_data_zero_one.values)\n",
    "model_nn_binary = NearestNeighbors(metric='cosine', algorithm='brute')\n",
    "model_nn_binary.fit(wide_artist_data_zero_one_sparse)"
   ]
  },
  {
   "cell_type": "code",
   "execution_count": 17,
   "metadata": {},
   "outputs": [],
   "source": [
    "def print_artist_recommendations(query_artist, artist_plays_matrix, knn_model, k):\n",
    "\n",
    "    query_index = None\n",
    "    ratio_tuples = []\n",
    "\n",
    "    for i in artist_plays_matrix.index:\n",
    "        ratio = fuzz.ratio(i.lower(), query_artist.lower())\n",
    "        if ratio >= 75:\n",
    "            current_query_index = artist_plays_matrix.index.tolist().index(i)\n",
    "            ratio_tuples.append((i, ratio, current_query_index))\n",
    "    \n",
    "    print('Possible matches: {0}\\n'.format([(x[0], x[1]) for x in ratio_tuples]))\n",
    "    \n",
    "    try:\n",
    "        query_index = max(ratio_tuples, key = lambda x: x[1])[2] # get the index of the best artist match in the data\n",
    "    except:\n",
    "        print('Your artist didn\\'t match any artists in the data. Try again')\n",
    "        return None\n",
    "    \n",
    "    distances, indices = knn_model.kneighbors(artist_plays_matrix.iloc[query_index, :].reshape(1, -1), n_neighbors = k + 1)\n",
    "\n",
    "    for i in range(0, len(distances.flatten())):\n",
    "        if i == 0:\n",
    "            print('Recommendations for {0}:\\n'.format(artist_plays_matrix.index[query_index]))\n",
    "        else:\n",
    "            print('{0}: {1}, with distance of {2}:'.format(i, artist_plays_matrix.index[indices.flatten()[i]], distances.flatten()[i]))\n",
    "\n",
    "    return None"
   ]
  },
  {
   "cell_type": "code",
   "execution_count": 21,
   "metadata": {},
   "outputs": [
    {
     "name": "stdout",
     "output_type": "stream",
     "text": [
      "Possible matches: [('kid cudi', 100)]\n",
      "\n",
      "Recommendations for kid cudi:\n",
      "\n",
      "1: wale, with distance of 0.7435611777339137:\n",
      "2: dj khaled, with distance of 0.7485221546152274:\n",
      "3: young jeezy, with distance of 0.7535864448129729:\n",
      "4: lil wayne, with distance of 0.7623757717391213:\n",
      "5: slim thug, with distance of 0.7668737979399216:\n",
      "6: wiz khalifa, with distance of 0.7788370657676543:\n",
      "7: lloyd, with distance of 0.7854404380443545:\n",
      "8: the carps, with distance of 0.7914855859429253:\n",
      "9: mic terror, with distance of 0.7914855859429253:\n",
      "10: clipse, with distance of 0.7955347949726174:\n"
     ]
    },
    {
     "name": "stderr",
     "output_type": "stream",
     "text": [
      "C:\\Users\\Jana\\Anaconda3\\lib\\site-packages\\ipykernel_launcher.py:20: FutureWarning: reshape is deprecated and will raise in a subsequent release. Please use .values.reshape(...) instead\n"
     ]
    }
   ],
   "source": [
    "#Enter a band/artist to get some recommendations of other artists you may like\n",
    "print_artist_recommendations('kid cudi', wide_artist_data_zero_one, model_nn_binary, k = 10)"
   ]
  },
  {
   "cell_type": "code",
   "execution_count": null,
   "metadata": {},
   "outputs": [],
   "source": []
  }
 ],
 "metadata": {
  "kernelspec": {
   "display_name": "Python 3",
   "language": "python",
   "name": "python3"
  },
  "language_info": {
   "codemirror_mode": {
    "name": "ipython",
    "version": 3
   },
   "file_extension": ".py",
   "mimetype": "text/x-python",
   "name": "python",
   "nbconvert_exporter": "python",
   "pygments_lexer": "ipython3",
   "version": "3.6.4"
  }
 },
 "nbformat": 4,
 "nbformat_minor": 2
}
